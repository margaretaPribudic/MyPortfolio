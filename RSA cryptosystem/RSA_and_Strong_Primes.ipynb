{
  "cells": [
    {
      "cell_type": "code",
      "execution_count": null,
      "metadata": {
        "id": "uE_SmeShhTyv"
      },
      "outputs": [],
      "source": [
        "import random\n",
        "from random import randint\n",
        "from sympy import isprime, randprime"
      ]
    },
    {
      "cell_type": "code",
      "execution_count": null,
      "metadata": {
        "id": "lEY0XhbLiRm-"
      },
      "outputs": [],
      "source": [
        "\"Miller-Rabinov test prostosti\"\n",
        "def miller_rabin_test(n, k=20):\n",
        "    if n < 2:\n",
        "        return False\n",
        "    if n in (2, 3):\n",
        "        return True\n",
        "    if n % 2 == 0:\n",
        "        return False\n",
        "\n",
        "    s = 0\n",
        "    d = n - 1\n",
        "    while d % 2 == 0:\n",
        "        d //= 2\n",
        "        s += 1\n",
        "\n",
        "    for i in range(k):\n",
        "        randomNumber = random.randint(2, n - 2)\n",
        "        x = pow(randomNumber, d, n)\n",
        "        if x == 1 or x == n - 1:\n",
        "            continue\n",
        "\n",
        "        for j in range(s - 1):\n",
        "            x = pow(x, 2, n)\n",
        "            if x == n - 1:\n",
        "                break\n",
        "        else:\n",
        "            return False\n",
        "\n",
        "    return True"
      ]
    },
    {
      "cell_type": "code",
      "execution_count": null,
      "metadata": {
        "colab": {
          "base_uri": "https://localhost:8080/"
        },
        "id": "UfRjO120j9ZL",
        "outputId": "0a186500-7eea-4348-c5c3-2c59503823ff"
      },
      "outputs": [
        {
          "name": "stdout",
          "output_type": "stream",
          "text": [
            "Je li broj 23 prost? True\n",
            "Je li broj 9 prost? False\n"
          ]
        }
      ],
      "source": [
        "\"Testiranje Miller-Rabinovog testa\"\n",
        "print(\"Je li broj 23 prost?\", miller_rabin_test(23))\n",
        "print(\"Je li broj 9 prost?\", miller_rabin_test(9))"
      ]
    },
    {
      "cell_type": "code",
      "execution_count": null,
      "metadata": {
        "id": "8_dOlvn1kaWJ"
      },
      "outputs": [],
      "source": [
        "\"Generiranje broja s Miller-Rabinovim testom\"\n",
        "def generate_prime(bits=100, k=20):\n",
        "    while True:\n",
        "        generatedRandInt = random.getrandbits(bits) | 1\n",
        "        if miller_rabin_test(generatedRandInt, k):\n",
        "            return generatedRandInt"
      ]
    },
    {
      "cell_type": "code",
      "execution_count": null,
      "metadata": {
        "colab": {
          "base_uri": "https://localhost:8080/"
        },
        "id": "LC2HLVD5lFrh",
        "outputId": "227082c6-9847-440d-e7ca-5bff6b63d008"
      },
      "outputs": [
        {
          "name": "stdout",
          "output_type": "stream",
          "text": [
            "Generirani prost broj: 3578749567582403726782267466956818754766883008940981857848200387047849055054542779994253447443262657277020230486449720675676036735359343298988410123100129\n"
          ]
        }
      ],
      "source": [
        "somePrimeNumber = generate_prime(512,20)\n",
        "print(\"Generirani prost broj:\", somePrimeNumber)"
      ]
    },
    {
      "cell_type": "code",
      "execution_count": null,
      "metadata": {
        "id": "lAuQV7HjlosG"
      },
      "outputs": [],
      "source": [
        "\"Williams-Schmid algoritam generiranja jakih prostih brojeva\"\n",
        "def generate_strong_prime_williams_schmid(bit_length):\n",
        "    while True:\n",
        "        q1 = randprime(2**(bit_length//4), 2**(bit_length//4 + 1))\n",
        "        q2 = randprime(2**(bit_length//4), 2**(bit_length//4 + 1))\n",
        "\n",
        "        r = 2 * q2 + 1\n",
        "\n",
        "        if not isprime(r):\n",
        "            continue\n",
        "\n",
        "        for k in range(1, 100):\n",
        "            p = k * q1 * r + 1\n",
        "            if isprime(p):\n",
        "                return p"
      ]
    },
    {
      "cell_type": "code",
      "execution_count": null,
      "metadata": {
        "colab": {
          "base_uri": "https://localhost:8080/"
        },
        "id": "d5L4d_8PmS-g",
        "outputId": "36f5d3c2-ef6a-4aa6-fe42-f533d188e978"
      },
      "outputs": [
        {
          "name": "stdout",
          "output_type": "stream",
          "text": [
            "Jaki prost broj generiran pomoću Williams_Schmid algoritma:  4133953487678599020733027582666635592715776233751584473636950121113100619547724582840572047205805297288352782657131161513852299052118027296232615996231498169\n"
          ]
        }
      ],
      "source": [
        "bitLength = 1024\n",
        "generated_WS_strongPrime = generate_strong_prime_williams_schmid(bitLength)\n",
        "print(\"Jaki prost broj generiran pomoću Williams_Schmid algoritma: \", generated_WS_strongPrime)"
      ]
    },
    {
      "cell_type": "code",
      "execution_count": null,
      "metadata": {
        "id": "0GSl-_lDm2Eu"
      },
      "outputs": [],
      "source": [
        "\"Gordonov algoritam za generiranje jakih prostih brojeva\"\n",
        "def generate_strong_prime_gordon(bit_length):\n",
        "    while True:\n",
        "        q = randprime(2**(bit_length//2 - 1), 2**(bit_length//2))\n",
        "\n",
        "        r = randint(2**(bit_length//2 - 1), 2**(bit_length//2))\n",
        "\n",
        "        while r % q == 0:\n",
        "            r = randint(2**(bit_length//2 - 1), 2**(bit_length//2))\n",
        "\n",
        "        p = 2 * q * r + 1\n",
        "\n",
        "        if isprime(p):\n",
        "            return p"
      ]
    },
    {
      "cell_type": "code",
      "execution_count": null,
      "metadata": {
        "colab": {
          "base_uri": "https://localhost:8080/"
        },
        "id": "N2dA4r-4nKFK",
        "outputId": "2013f441-e4d3-4880-a0a9-faa36e8af609"
      },
      "outputs": [
        {
          "name": "stdout",
          "output_type": "stream",
          "text": [
            "Jaki prost broj generiran pomoću Gordonovog algoritma:  297611846907871716721303223790767526729605132639351298635923987033807011494318765210540756284001260324190110292981006304365129473291325912906353384180055793493093960915026401140814127217084042601892521305894142937316100986192546043897135381089671845190781014581801212696953851270518553903909026247742075338749\n"
          ]
        }
      ],
      "source": [
        "bitLength = 1024\n",
        "generated_G_strongPrime = generate_strong_prime_gordon(bitLength)\n",
        "print(\"Jaki prost broj generiran pomoću Gordonovog algoritma: \", generated_G_strongPrime)"
      ]
    },
    {
      "cell_type": "code",
      "execution_count": null,
      "metadata": {
        "id": "F7F15eX3HJz3"
      },
      "outputs": [],
      "source": [
        "def main():\n",
        "    while True:\n",
        "        try:\n",
        "            print(\"\\nOdaberite opciju:\")\n",
        "            print(\"1. Testirati broj je li prost\")\n",
        "            print(\"2. Generirati prost broj\")\n",
        "            print(\"3. Izlaz iz programa\")\n",
        "\n",
        "            user_input = int(input(\"Unesite svoj odabir (1, 2 ili 3): \"))\n",
        "\n",
        "            if user_input == 1:\n",
        "                try:\n",
        "                  def izbornik():\n",
        "                    inputedNumber = int(input(\"Unesite broj za provjeru prostosti (ili -1 za povratak na izbornik): \"))\n",
        "                    if inputedNumber == -1:\n",
        "                        main()\n",
        "                        return\n",
        "                    elif inputedNumber < 0:\n",
        "                        print(\"Broj mora biti pozitivan.\")\n",
        "                        izbornik()\n",
        "                        return\n",
        "                    is_prime = miller_rabin_test(inputedNumber)\n",
        "                    if is_prime:\n",
        "                        print(f\"Broj {inputedNumber} je prost.\")\n",
        "                        main()\n",
        "                        return\n",
        "                    else:\n",
        "                        print(f\"Broj {inputedNumber} nije prost.\")\n",
        "                        main()\n",
        "                        return\n",
        "                  izbornik()\n",
        "                except ValueError:\n",
        "                    print(\"Molimo unesite valjan cijeli broj.\")\n",
        "                    izbornik()\n",
        "\n",
        "            elif user_input == 2:\n",
        "                while True:\n",
        "                    try:\n",
        "                        print(\"\\nOdaberite algoritam za generiranje prostog broja:\")\n",
        "                        print(\"1. Williams-Schmid algoritam\")\n",
        "                        print(\"2. Gordonov algoritam\")\n",
        "                        print(\"3. Povratak na glavni izbornik\")\n",
        "\n",
        "                        algo_choice = int(input(\"Unesite svoj odabir (1, 2 ili 3): \"))\n",
        "\n",
        "                        if algo_choice == 1:\n",
        "                            while True:\n",
        "                              try:\n",
        "                                inputedNum = int(input(\"Unesite broj bitova generiranog broja: \"))\n",
        "                                if inputedNum > 0:\n",
        "                                  bit_length_input = inputedNum\n",
        "                                  break\n",
        "                                else:\n",
        "                                  print(\"Pogrešan unos, pokušajte ponovno. Unesite prirodni broj.\")\n",
        "                              except ValueError:\n",
        "                                print(\"Greška: Niste unijeli cijeli broj, pokušajte ponovno. Unesite prirodni broj\")\n",
        "                            genNumbWS=generate_strong_prime_williams_schmid(bit_length_input)\n",
        "                            print(f\"Generirani jak prost broj: {genNumbWS}\")\n",
        "\n",
        "                        elif algo_choice == 2:\n",
        "                          while True:\n",
        "                              try:\n",
        "                                inputedNum = int(input(\"Unesite broj bitova generiranog broja: \"))\n",
        "                                if inputedNum > 0:\n",
        "                                  bit_length_input = inputedNum\n",
        "                                  break\n",
        "                                else:\n",
        "                                  print(\"Pogrešan unos, pokušajte ponovno. Unesite prirodni broj.\")\n",
        "                              except ValueError:\n",
        "                                print(\"Greška: Niste unijeli broj. Pokušajte ponovno.\")\n",
        "                          genNumbG=generate_strong_prime_gordon(bit_length_input)\n",
        "                          print(f\"Generirani jak prost broj: {genNumbG}\")\n",
        "                        elif algo_choice == 3:\n",
        "                            main()\n",
        "                            break\n",
        "                        else:\n",
        "                            print(\"Neispravan unos, molimo pokušajte ponovno.\")\n",
        "                    except ValueError:\n",
        "                        print(\"Molimo unesite valjan cijeli broj.\")\n",
        "\n",
        "            elif user_input == 3:\n",
        "                print(\"Izlazak iz programa.\")\n",
        "            else:\n",
        "                print(\"Neispravan unos, molimo odaberite 1, 2 ili 3.\")\n",
        "            break\n",
        "        except ValueError:\n",
        "            print(\"Molimo unesite valjan cijeli broj.\")"
      ]
    },
    {
      "cell_type": "code",
      "execution_count": null,
      "metadata": {
        "colab": {
          "background_save": true,
          "base_uri": "https://localhost:8080/"
        },
        "id": "8i0X1m8pCffU",
        "outputId": "4a2a0505-63b9-4bb7-a1ef-e43897996703"
      },
      "outputs": [
        {
          "name": "stdout",
          "output_type": "stream",
          "text": [
            "\n",
            "Odaberite opciju:\n",
            "1. Testirati broj je li prost\n",
            "2. Generirati prost broj\n",
            "3. Izlaz iz programa\n",
            "\n",
            "Odaberite algoritam za generiranje prostog broja:\n",
            "1. Williams-Schmid algoritam\n",
            "2. Gordonov algoritam\n",
            "3. Povratak na glavni izbornik\n",
            "Generirani jak prost broj: 313\n",
            "\n",
            "Odaberite algoritam za generiranje prostog broja:\n",
            "1. Williams-Schmid algoritam\n",
            "2. Gordonov algoritam\n",
            "3. Povratak na glavni izbornik\n",
            "\n",
            "Odaberite opciju:\n",
            "1. Testirati broj je li prost\n",
            "2. Generirati prost broj\n",
            "3. Izlaz iz programa\n",
            "Broj 313 je prost.\n",
            "\n",
            "Odaberite opciju:\n",
            "1. Testirati broj je li prost\n",
            "2. Generirati prost broj\n",
            "3. Izlaz iz programa\n",
            "\n",
            "Odaberite algoritam za generiranje prostog broja:\n",
            "1. Williams-Schmid algoritam\n",
            "2. Gordonov algoritam\n",
            "3. Povratak na glavni izbornik\n",
            "Generirani jak prost broj: 504517913\n",
            "\n",
            "Odaberite algoritam za generiranje prostog broja:\n",
            "1. Williams-Schmid algoritam\n",
            "2. Gordonov algoritam\n",
            "3. Povratak na glavni izbornik\n",
            "\n",
            "Odaberite opciju:\n",
            "1. Testirati broj je li prost\n",
            "2. Generirati prost broj\n",
            "3. Izlaz iz programa\n",
            "Broj 504517913 je prost.\n",
            "\n",
            "Odaberite opciju:\n",
            "1. Testirati broj je li prost\n",
            "2. Generirati prost broj\n",
            "3. Izlaz iz programa\n"
          ]
        }
      ],
      "source": [
        "main()"
      ]
    }
  ],
  "metadata": {
    "colab": {
      "provenance": []
    },
    "kernelspec": {
      "display_name": "Python 3",
      "name": "python3"
    },
    "language_info": {
      "name": "python"
    }
  },
  "nbformat": 4,
  "nbformat_minor": 0
}